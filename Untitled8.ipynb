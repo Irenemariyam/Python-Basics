{
  "nbformat": 4,
  "nbformat_minor": 0,
  "metadata": {
    "colab": {
      "provenance": [],
      "authorship_tag": "ABX9TyP4HKXU1tM4b9n1fZa8SXL6",
      "include_colab_link": true
    },
    "kernelspec": {
      "name": "python3",
      "display_name": "Python 3"
    },
    "language_info": {
      "name": "python"
    }
  },
  "cells": [
    {
      "cell_type": "markdown",
      "metadata": {
        "id": "view-in-github",
        "colab_type": "text"
      },
      "source": [
        "<a href=\"https://colab.research.google.com/github/Irenemariyam/Python-Basics/blob/main/Untitled8.ipynb\" target=\"_parent\"><img src=\"https://colab.research.google.com/assets/colab-badge.svg\" alt=\"Open In Colab\"/></a>"
      ]
    },
    {
      "cell_type": "code",
      "execution_count": 3,
      "metadata": {
        "id": "-9e53lSL2CWd"
      },
      "outputs": [],
      "source": [
        "x=1"
      ]
    },
    {
      "cell_type": "code",
      "source": [
        "a=1.5\n",
        "b=2\n",
        "type(a+b)"
      ],
      "metadata": {
        "colab": {
          "base_uri": "https://localhost:8080/"
        },
        "id": "7IjhYyXj3YV7",
        "outputId": "e68e9b12-3505-4a14-a128-5b38fc55e259"
      },
      "execution_count": 4,
      "outputs": [
        {
          "output_type": "execute_result",
          "data": {
            "text/plain": [
              "float"
            ]
          },
          "metadata": {},
          "execution_count": 4
        }
      ]
    },
    {
      "cell_type": "code",
      "source": [
        "y=1.5\n",
        "type(y)"
      ],
      "metadata": {
        "colab": {
          "base_uri": "https://localhost:8080/"
        },
        "id": "SDGKYo6S3zsQ",
        "outputId": "faec050b-59ec-4c11-cc38-6dbeed08a208"
      },
      "execution_count": 5,
      "outputs": [
        {
          "output_type": "execute_result",
          "data": {
            "text/plain": [
              "float"
            ]
          },
          "metadata": {},
          "execution_count": 5
        }
      ]
    },
    {
      "cell_type": "code",
      "source": [
        "c=10+5j"
      ],
      "metadata": {
        "id": "1teVpuF-33oX"
      },
      "execution_count": 6,
      "outputs": []
    },
    {
      "cell_type": "code",
      "source": [
        "type(c)"
      ],
      "metadata": {
        "colab": {
          "base_uri": "https://localhost:8080/"
        },
        "id": "SsqxMHM94J1A",
        "outputId": "cec9a146-82fd-4326-e62b-2cb7592741b6"
      },
      "execution_count": 7,
      "outputs": [
        {
          "output_type": "execute_result",
          "data": {
            "text/plain": [
              "complex"
            ]
          },
          "metadata": {},
          "execution_count": 7
        }
      ]
    },
    {
      "cell_type": "code",
      "source": [
        "name=\"irene\"\n",
        "type(name)"
      ],
      "metadata": {
        "colab": {
          "base_uri": "https://localhost:8080/"
        },
        "id": "Pc3nx7ST4Mcn",
        "outputId": "b6786594-5570-48cd-9920-488ac63955b2"
      },
      "execution_count": 8,
      "outputs": [
        {
          "output_type": "execute_result",
          "data": {
            "text/plain": [
              "str"
            ]
          },
          "metadata": {},
          "execution_count": 8
        }
      ]
    },
    {
      "cell_type": "code",
      "source": [
        "n=\"rajagiri college of socail sciences\"\n",
        "type(n)"
      ],
      "metadata": {
        "colab": {
          "base_uri": "https://localhost:8080/"
        },
        "id": "L8d3-Fyx4gtn",
        "outputId": "efebe340-5cd0-4c14-84bd-fbe7b248e187"
      },
      "execution_count": 9,
      "outputs": [
        {
          "output_type": "execute_result",
          "data": {
            "text/plain": [
              "str"
            ]
          },
          "metadata": {},
          "execution_count": 9
        }
      ]
    },
    {
      "cell_type": "code",
      "source": [
        "friends=['a','b','c','d','e']\n",
        "print(friends)\n",
        "type(friends)"
      ],
      "metadata": {
        "colab": {
          "base_uri": "https://localhost:8080/"
        },
        "id": "lEPtMQDX4t9-",
        "outputId": "7cead2b3-4cb2-4ed9-9cac-e0364c5078ba"
      },
      "execution_count": 13,
      "outputs": [
        {
          "output_type": "stream",
          "name": "stdout",
          "text": [
            "['a', 'b', 'c', 'd', 'e']\n"
          ]
        },
        {
          "output_type": "execute_result",
          "data": {
            "text/plain": [
              "list"
            ]
          },
          "metadata": {},
          "execution_count": 13
        }
      ]
    },
    {
      "cell_type": "code",
      "source": [
        "print(friends[1])"
      ],
      "metadata": {
        "colab": {
          "base_uri": "https://localhost:8080/"
        },
        "id": "W2BZ51Ze5tJU",
        "outputId": "44f7b9e1-10f5-4085-a599-affe0646f6a9"
      },
      "execution_count": 14,
      "outputs": [
        {
          "output_type": "stream",
          "name": "stdout",
          "text": [
            "b\n"
          ]
        }
      ]
    },
    {
      "cell_type": "code",
      "source": [
        "print(friends[0])"
      ],
      "metadata": {
        "colab": {
          "base_uri": "https://localhost:8080/"
        },
        "id": "HKgk81YO6b3M",
        "outputId": "2791cff5-08d8-47ee-ed69-4533bd308b65"
      },
      "execution_count": 15,
      "outputs": [
        {
          "output_type": "stream",
          "name": "stdout",
          "text": [
            "a\n"
          ]
        }
      ]
    },
    {
      "cell_type": "code",
      "source": [
        "print(friends[2])"
      ],
      "metadata": {
        "colab": {
          "base_uri": "https://localhost:8080/"
        },
        "id": "xvPEDJ637E0r",
        "outputId": "e61bd4af-65d9-4ebb-f5aa-3b976d20aa66"
      },
      "execution_count": 16,
      "outputs": [
        {
          "output_type": "stream",
          "name": "stdout",
          "text": [
            "c\n"
          ]
        }
      ]
    },
    {
      "cell_type": "code",
      "source": [
        "print(friends[3])"
      ],
      "metadata": {
        "colab": {
          "base_uri": "https://localhost:8080/"
        },
        "id": "OH0Nmdhc7HQL",
        "outputId": "41be427b-db58-4b23-c471-3081afa2dd66"
      },
      "execution_count": 17,
      "outputs": [
        {
          "output_type": "stream",
          "name": "stdout",
          "text": [
            "d\n"
          ]
        }
      ]
    },
    {
      "cell_type": "code",
      "source": [
        "print(friends[4])"
      ],
      "metadata": {
        "colab": {
          "base_uri": "https://localhost:8080/"
        },
        "id": "t0I_s-u67LOb",
        "outputId": "b494f2cc-ed5e-462e-b997-40f5f7acb6d5"
      },
      "execution_count": 18,
      "outputs": [
        {
          "output_type": "stream",
          "name": "stdout",
          "text": [
            "e\n"
          ]
        }
      ]
    },
    {
      "cell_type": "code",
      "source": [
        "friends=['akash','aswin','athul','abhi']\n",
        "alphabets=['a','b','c','d']\n",
        "y=friends+alphabets\n",
        "print(y)"
      ],
      "metadata": {
        "colab": {
          "base_uri": "https://localhost:8080/"
        },
        "id": "zECTCXpw7OED",
        "outputId": "8c0fdff7-2df7-42dd-9be7-55c0f5b55abc"
      },
      "execution_count": 19,
      "outputs": [
        {
          "output_type": "stream",
          "name": "stdout",
          "text": [
            "['akash', 'aswin', 'athul', 'abhi', 'a', 'b', 'c', 'd']\n"
          ]
        }
      ]
    },
    {
      "cell_type": "code",
      "source": [],
      "metadata": {
        "id": "bksPuNZK828w"
      },
      "execution_count": null,
      "outputs": []
    },
    {
      "cell_type": "code",
      "source": [
        "friends=['akash','aswin','athul','abhi']\n",
        "alphabets=['a','b','c','d']\n",
        "y=friends+alphabets\n",
        "print(y)\n",
        "friends.pop()"
      ],
      "metadata": {
        "colab": {
          "base_uri": "https://localhost:8080/",
          "height": 52
        },
        "outputId": "21a0af60-f01b-4a07-ca5c-f7a6e0e688a8",
        "id": "YiC1t5Tf-PVe"
      },
      "execution_count": 20,
      "outputs": [
        {
          "output_type": "stream",
          "name": "stdout",
          "text": [
            "['akash', 'aswin', 'athul', 'abhi', 'a', 'b', 'c', 'd']\n"
          ]
        },
        {
          "output_type": "execute_result",
          "data": {
            "text/plain": [
              "'abhi'"
            ],
            "application/vnd.google.colaboratory.intrinsic+json": {
              "type": "string"
            }
          },
          "metadata": {},
          "execution_count": 20
        }
      ]
    },
    {
      "cell_type": "code",
      "source": [
        "friends.pop(1)"
      ],
      "metadata": {
        "colab": {
          "base_uri": "https://localhost:8080/",
          "height": 35
        },
        "id": "LAnjRvbS-STx",
        "outputId": "3a7d566a-f7c9-4094-8e64-5072d6f1cb96"
      },
      "execution_count": 21,
      "outputs": [
        {
          "output_type": "execute_result",
          "data": {
            "text/plain": [
              "'aswin'"
            ],
            "application/vnd.google.colaboratory.intrinsic+json": {
              "type": "string"
            }
          },
          "metadata": {},
          "execution_count": 21
        }
      ]
    },
    {
      "cell_type": "code",
      "source": [
        "friends=['akash','aswin','athul','abhi']\n",
        "friends.append('abhi')\n",
        "print(friends)\n",
        "friends.sort()\n",
        "print(friends)"
      ],
      "metadata": {
        "colab": {
          "base_uri": "https://localhost:8080/"
        },
        "id": "fzq0fANf-WUR",
        "outputId": "1b81326c-17ed-4881-81dd-513b0f5615ac"
      },
      "execution_count": 23,
      "outputs": [
        {
          "output_type": "stream",
          "name": "stdout",
          "text": [
            "['akash', 'aswin', 'athul', 'abhi', 'abhi']\n",
            "['abhi', 'abhi', 'akash', 'aswin', 'athul']\n"
          ]
        }
      ]
    },
    {
      "cell_type": "code",
      "source": [
        "friends=['ram','ravi','rahul','ravan']\n",
        "friends.append('rohit')\n",
        "print(friends)\n",
        "friends.sort()\n",
        "print(friends)\n",
        "friends.reverse()\n",
        "print(friends)\n",
        "friends.insert(1,\"raj\")\n",
        "print(friends)\n"
      ],
      "metadata": {
        "colab": {
          "base_uri": "https://localhost:8080/"
        },
        "id": "xxNpptdw_CXB",
        "outputId": "69b6bd36-690c-47be-e2c0-3b5e141d268c"
      },
      "execution_count": 24,
      "outputs": [
        {
          "output_type": "stream",
          "name": "stdout",
          "text": [
            "['ram', 'ravi', 'rahul', 'ravan', 'rohit']\n",
            "['rahul', 'ram', 'ravan', 'ravi', 'rohit']\n",
            "['rohit', 'ravi', 'ravan', 'ram', 'rahul']\n",
            "['rohit', 'raj', 'ravi', 'ravan', 'ram', 'rahul']\n"
          ]
        }
      ]
    },
    {
      "cell_type": "code",
      "source": [
        "tuple_items=(10,30,50,70,80,75.5,50.8,'mrbrit','s')"
      ],
      "metadata": {
        "id": "qfUuh53OBgsi"
      },
      "execution_count": 25,
      "outputs": []
    },
    {
      "cell_type": "code",
      "source": [
        "type(tuple_items)"
      ],
      "metadata": {
        "colab": {
          "base_uri": "https://localhost:8080/"
        },
        "id": "OiBG9Rk3D-wP",
        "outputId": "069af62e-7461-4d02-fca0-afe694a78b85"
      },
      "execution_count": 27,
      "outputs": [
        {
          "output_type": "execute_result",
          "data": {
            "text/plain": [
              "tuple"
            ]
          },
          "metadata": {},
          "execution_count": 27
        }
      ]
    },
    {
      "cell_type": "code",
      "source": [
        "h={1,2,3,7,15,25,3.5}"
      ],
      "metadata": {
        "id": "g3LBUz7yEAP0"
      },
      "execution_count": 28,
      "outputs": []
    },
    {
      "cell_type": "code",
      "source": [
        "type(h)"
      ],
      "metadata": {
        "colab": {
          "base_uri": "https://localhost:8080/"
        },
        "id": "OGZy8PxWGCDL",
        "outputId": "156df88f-988b-47db-9c14-c92b3a02b702"
      },
      "execution_count": 29,
      "outputs": [
        {
          "output_type": "execute_result",
          "data": {
            "text/plain": [
              "set"
            ]
          },
          "metadata": {},
          "execution_count": 29
        }
      ]
    },
    {
      "cell_type": "code",
      "source": [
        "marks=[10,20,30,40,50]\n",
        "score=set(marks)\n",
        "print(score)"
      ],
      "metadata": {
        "colab": {
          "base_uri": "https://localhost:8080/"
        },
        "id": "bVAA4tXiGE4T",
        "outputId": "e570d52f-4e70-41db-c60b-28b9f6cb3062"
      },
      "execution_count": 30,
      "outputs": [
        {
          "output_type": "stream",
          "name": "stdout",
          "text": [
            "{40, 10, 50, 20, 30}\n"
          ]
        }
      ]
    },
    {
      "cell_type": "code",
      "source": [
        "dict={'name':'mrbrit','fav fruits':'apple',}"
      ],
      "metadata": {
        "id": "QJj4p9YLGqEY"
      },
      "execution_count": 33,
      "outputs": []
    },
    {
      "cell_type": "code",
      "source": [
        "type(dict)"
      ],
      "metadata": {
        "colab": {
          "base_uri": "https://localhost:8080/"
        },
        "id": "D_bDypxCHxDi",
        "outputId": "f5086264-9ad1-4817-ce2a-b65bfd7426d3"
      },
      "execution_count": 34,
      "outputs": [
        {
          "output_type": "execute_result",
          "data": {
            "text/plain": [
              "dict"
            ]
          },
          "metadata": {},
          "execution_count": 34
        }
      ]
    },
    {
      "cell_type": "code",
      "source": [
        "dict={'name':'irene','phone':'9645871650','place':'aluva'}\n",
        "print(dict)\n",
        "dict.keys()"
      ],
      "metadata": {
        "colab": {
          "base_uri": "https://localhost:8080/"
        },
        "id": "bwMQuwqHH82a",
        "outputId": "788d4074-9467-4c7a-b47a-8c8306436157"
      },
      "execution_count": 37,
      "outputs": [
        {
          "output_type": "stream",
          "name": "stdout",
          "text": [
            "{'name': 'irene', 'phone': '9645871650', 'place': 'aluva'}\n"
          ]
        },
        {
          "output_type": "execute_result",
          "data": {
            "text/plain": [
              "dict_keys(['name', 'phone', 'place'])"
            ]
          },
          "metadata": {},
          "execution_count": 37
        }
      ]
    },
    {
      "cell_type": "code",
      "source": [
        "def add(x,y):\n",
        "  return(x+y)\n",
        "add(10,20)"
      ],
      "metadata": {
        "colab": {
          "base_uri": "https://localhost:8080/"
        },
        "id": "u2AkHljGIj3y",
        "outputId": "82995be1-dd52-4d5d-d3ee-76e92b8fd642"
      },
      "execution_count": 40,
      "outputs": [
        {
          "output_type": "execute_result",
          "data": {
            "text/plain": [
              "30"
            ]
          },
          "metadata": {},
          "execution_count": 40
        }
      ]
    },
    {
      "cell_type": "code",
      "source": [
        "d={'name':'irene','phone number':'9876543210','place':'aluva'}\n",
        "print(d)\n",
        "print(d.keys())\n",
        "print(d.values())\n",
        "print(d.items())\n",
        "d.update({\"dob\":\"12-12-2022\"})\n",
        "print(d)\n",
        "d['name']='angu'\n",
        "print(d)"
      ],
      "metadata": {
        "colab": {
          "base_uri": "https://localhost:8080/"
        },
        "id": "joHGgwW_KtJd",
        "outputId": "6dd29700-d76a-49cd-9b13-25687f5f882e"
      },
      "execution_count": 41,
      "outputs": [
        {
          "output_type": "stream",
          "name": "stdout",
          "text": [
            "{'name': 'irene', 'phone number': '9876543210', 'place': 'aluva'}\n",
            "dict_keys(['name', 'phone number', 'place'])\n",
            "dict_values(['irene', '9876543210', 'aluva'])\n",
            "dict_items([('name', 'irene'), ('phone number', '9876543210'), ('place', 'aluva')])\n",
            "{'name': 'irene', 'phone number': '9876543210', 'place': 'aluva', 'dob': '12-12-2022'}\n",
            "{'name': 'angu', 'phone number': '9876543210', 'place': 'aluva', 'dob': '12-12-2022'}\n"
          ]
        }
      ]
    },
    {
      "cell_type": "code",
      "source": [],
      "metadata": {
        "id": "svkd8sT1L5VN"
      },
      "execution_count": null,
      "outputs": []
    }
  ]
}