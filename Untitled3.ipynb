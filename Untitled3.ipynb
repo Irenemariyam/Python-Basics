{
  "nbformat": 4,
  "nbformat_minor": 0,
  "metadata": {
    "colab": {
      "provenance": [],
      "collapsed_sections": [],
      "authorship_tag": "ABX9TyPDktiTfjTR6mS+I25x+WKq",
      "include_colab_link": true
    },
    "kernelspec": {
      "name": "python3",
      "display_name": "Python 3"
    },
    "language_info": {
      "name": "python"
    }
  },
  "cells": [
    {
      "cell_type": "markdown",
      "metadata": {
        "id": "view-in-github",
        "colab_type": "text"
      },
      "source": [
        "<a href=\"https://colab.research.google.com/github/Irenemariyam/Python-Basics/blob/main/Untitled3.ipynb\" target=\"_parent\"><img src=\"https://colab.research.google.com/assets/colab-badge.svg\" alt=\"Open In Colab\"/></a>"
      ]
    },
    {
      "cell_type": "code",
      "execution_count": 2,
      "metadata": {
        "id": "xhDQ1G9irArg"
      },
      "outputs": [],
      "source": [
        "def irene():\n",
        " print(\"hello my name is irene\")\n"
      ]
    },
    {
      "cell_type": "code",
      "source": [
        "irene()"
      ],
      "metadata": {
        "colab": {
          "base_uri": "https://localhost:8080/"
        },
        "id": "gGOQHFfpsfgn",
        "outputId": "ab308d83-93db-4bc8-832e-fe7cce4cbcb2"
      },
      "execution_count": 3,
      "outputs": [
        {
          "output_type": "stream",
          "name": "stdout",
          "text": [
            "hello my name is irene\n"
          ]
        }
      ]
    },
    {
      "cell_type": "code",
      "source": [
        "def irene(x,y):\n",
        "  z=x+y\n",
        "  print(\"result=\",z)\n"
      ],
      "metadata": {
        "id": "xOVE7ewVtK1w"
      },
      "execution_count": 4,
      "outputs": []
    },
    {
      "cell_type": "code",
      "source": [
        "irene(5,6)"
      ],
      "metadata": {
        "colab": {
          "base_uri": "https://localhost:8080/"
        },
        "id": "IQ7uFGJvuwnU",
        "outputId": "04bd8547-58c7-4972-9c03-8b427b337d9e"
      },
      "execution_count": 6,
      "outputs": [
        {
          "output_type": "stream",
          "name": "stdout",
          "text": [
            "result= 11\n"
          ]
        }
      ]
    },
    {
      "cell_type": "code",
      "source": [
        "def irene(x,y):\n",
        "  z=x*y\n",
        "  print(\"result=\",z)"
      ],
      "metadata": {
        "id": "pC2flhCEu0BP"
      },
      "execution_count": 7,
      "outputs": []
    },
    {
      "cell_type": "code",
      "source": [
        "irene(5,6)"
      ],
      "metadata": {
        "colab": {
          "base_uri": "https://localhost:8080/"
        },
        "id": "4RmaI_lTvQ2P",
        "outputId": "eb2321ee-fdaa-41e8-ed10-b9178be74193"
      },
      "execution_count": 8,
      "outputs": [
        {
          "output_type": "stream",
          "name": "stdout",
          "text": [
            "result= 30\n"
          ]
        }
      ]
    },
    {
      "cell_type": "code",
      "source": [
        "def irene(x,y):\n",
        "  z=x-y\n",
        "  print(\"result=\",z)"
      ],
      "metadata": {
        "id": "JY4owQSKvTKl"
      },
      "execution_count": 9,
      "outputs": []
    },
    {
      "cell_type": "code",
      "source": [
        "irene(5,6)"
      ],
      "metadata": {
        "colab": {
          "base_uri": "https://localhost:8080/"
        },
        "id": "dXDlV4dIvkBa",
        "outputId": "dcdb4398-788b-4354-bb81-3b0f5948bb5f"
      },
      "execution_count": 10,
      "outputs": [
        {
          "output_type": "stream",
          "name": "stdout",
          "text": [
            "result= -1\n"
          ]
        }
      ]
    },
    {
      "cell_type": "code",
      "source": [
        "def irene(x,y):\n",
        "  z=x/y\n",
        "  print(\"result=\",z)\n"
      ],
      "metadata": {
        "id": "ZUA8Eyayv3C2"
      },
      "execution_count": 12,
      "outputs": []
    },
    {
      "cell_type": "code",
      "source": [
        "irene(5,6)"
      ],
      "metadata": {
        "colab": {
          "base_uri": "https://localhost:8080/"
        },
        "id": "VUbxArT5wpHm",
        "outputId": "5593f6c9-3b17-4e03-91f2-6750b4cb7c16"
      },
      "execution_count": 13,
      "outputs": [
        {
          "output_type": "stream",
          "name": "stdout",
          "text": [
            "result= 0.8333333333333334\n"
          ]
        }
      ]
    },
    {
      "cell_type": "code",
      "source": [
        "def irene(y):\n",
        "  if y>250000:\n",
        "    print(\"your taxable\")\n",
        "  else:\n",
        "    print(\"your not taxable\")"
      ],
      "metadata": {
        "id": "LTAXnWdBwswe"
      },
      "execution_count": 33,
      "outputs": []
    },
    {
      "cell_type": "code",
      "source": [
        "z=int(input(\"enter salary\"))\n",
        "irene(z)"
      ],
      "metadata": {
        "colab": {
          "base_uri": "https://localhost:8080/"
        },
        "id": "kbDkyu9Uxzt7",
        "outputId": "6c6fa852-8487-4534-d723-ac489e07af09"
      },
      "execution_count": 36,
      "outputs": [
        {
          "output_type": "stream",
          "name": "stdout",
          "text": [
            "enter salary100000\n",
            "your not taxable\n"
          ]
        }
      ]
    },
    {
      "cell_type": "code",
      "source": [
        "def irene(salary):\n",
        "  k=0\n",
        "  for a in range (10):\n",
        "    k=k+a\n",
        "    print(k)"
      ],
      "metadata": {
        "id": "x1ehDhOi3kMR"
      },
      "execution_count": 40,
      "outputs": []
    },
    {
      "cell_type": "code",
      "source": [
        "x=int(input(\"enter a number\"))\n",
        "irene(10)"
      ],
      "metadata": {
        "colab": {
          "base_uri": "https://localhost:8080/"
        },
        "id": "5c25rxqD4fUV",
        "outputId": "97865845-1e97-43ef-eed0-031eb72e7416"
      },
      "execution_count": 42,
      "outputs": [
        {
          "output_type": "stream",
          "name": "stdout",
          "text": [
            "enter a number10\n",
            "0\n",
            "1\n",
            "3\n",
            "6\n",
            "10\n",
            "15\n",
            "21\n",
            "28\n",
            "36\n",
            "45\n"
          ]
        }
      ]
    },
    {
      "cell_type": "code",
      "source": [
        "def add(x,y):\n",
        "  print(x+y)\n",
        "def sub(x,y):\n",
        "  print(x-y)\n"
      ],
      "metadata": {
        "id": "7WhbL88C7Ix-"
      },
      "execution_count": 45,
      "outputs": []
    },
    {
      "cell_type": "code",
      "source": [
        "x=int(input(\"enter a number\"))\n",
        "y=int(input(\"enter a number\"))\n",
        "add(x,y)\n",
        "\n"
      ],
      "metadata": {
        "colab": {
          "base_uri": "https://localhost:8080/"
        },
        "id": "MdPtckBc9NiF",
        "outputId": "4bbeec8a-81f8-461d-efef-472ad22340e8"
      },
      "execution_count": 46,
      "outputs": [
        {
          "output_type": "stream",
          "name": "stdout",
          "text": [
            "enter a number20\n",
            "enter a number30\n",
            "50\n"
          ]
        }
      ]
    },
    {
      "cell_type": "code",
      "source": [],
      "metadata": {
        "id": "4nYfgoBV9dNZ"
      },
      "execution_count": 46,
      "outputs": []
    }
  ]
}