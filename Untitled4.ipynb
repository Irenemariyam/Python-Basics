{
  "nbformat": 4,
  "nbformat_minor": 0,
  "metadata": {
    "colab": {
      "provenance": [],
      "authorship_tag": "ABX9TyOjQVi8xB1RKG29ywgVHf7X",
      "include_colab_link": true
    },
    "kernelspec": {
      "name": "python3",
      "display_name": "Python 3"
    },
    "language_info": {
      "name": "python"
    }
  },
  "cells": [
    {
      "cell_type": "markdown",
      "metadata": {
        "id": "view-in-github",
        "colab_type": "text"
      },
      "source": [
        "<a href=\"https://colab.research.google.com/github/Irenemariyam/Python-Basics/blob/main/Untitled4.ipynb\" target=\"_parent\"><img src=\"https://colab.research.google.com/assets/colab-badge.svg\" alt=\"Open In Colab\"/></a>"
      ]
    },
    {
      "cell_type": "code",
      "execution_count": null,
      "metadata": {
        "colab": {
          "base_uri": "https://localhost:8080/"
        },
        "id": "AHfE-jbLdnsQ",
        "outputId": "f2e16c92-08b2-4ca9-c1ad-f3a6847f3346"
      },
      "outputs": [
        {
          "output_type": "stream",
          "name": "stdout",
          "text": [
            "enter the nameirene\n",
            "irene\n"
          ]
        }
      ],
      "source": [
        "name=input(\"enter the name\")\n",
        "print(name)"
      ]
    },
    {
      "cell_type": "code",
      "source": [
        "name=input(\"enter your name\")\n",
        "phonenumber=int(input(\"enter phone number:\"))\n",
        "print(name)\n",
        "print(phonenumber)"
      ],
      "metadata": {
        "colab": {
          "base_uri": "https://localhost:8080/"
        },
        "id": "lExGfinvieUe",
        "outputId": "f77ed287-37ed-4804-854b-574d7080d494"
      },
      "execution_count": null,
      "outputs": [
        {
          "output_type": "stream",
          "name": "stdout",
          "text": [
            "enter your nameirene\n",
            "enter phone number:8089237422\n",
            "irene\n",
            "8089237422\n"
          ]
        }
      ]
    },
    {
      "cell_type": "code",
      "source": [
        "m1=int(input(\"enter the mark of first subject\"))\n",
        "m2=int(input(\"enter the mark of second subject\"))\n",
        "total=m1+m2\n",
        "print(total)"
      ],
      "metadata": {
        "colab": {
          "base_uri": "https://localhost:8080/"
        },
        "id": "XYqVNaa7jQWC",
        "outputId": "f645c81c-be94-439d-ad67-1e156b8d80bb"
      },
      "execution_count": null,
      "outputs": [
        {
          "output_type": "stream",
          "name": "stdout",
          "text": [
            "enter the mark of first subject30\n",
            "enter the mark of second subject50\n",
            "80\n"
          ]
        }
      ]
    },
    {
      "cell_type": "code",
      "source": [
        "m1=int(input(\"enter the mark=\"))\n",
        "m2=int(input(\"enter the mark=\"))\n",
        "total=m1+m2\n",
        "avg=total/2\n",
        "print(\"total marks=\",total)\n",
        "print(\"avg marks=\",avg)\n"
      ],
      "metadata": {
        "colab": {
          "base_uri": "https://localhost:8080/"
        },
        "id": "c2DZXGmpk6zn",
        "outputId": "636e3e4b-7ce9-44fc-c8bc-df2548fc1721"
      },
      "execution_count": null,
      "outputs": [
        {
          "output_type": "stream",
          "name": "stdout",
          "text": [
            "enter the mark=80\n",
            "enter the mark=40\n",
            "total marks= 120\n",
            "avg marks= 60.0\n"
          ]
        }
      ]
    },
    {
      "cell_type": "code",
      "source": [
        "m1=int(input(\"enter the number\"))\n",
        "m2=int(input(\"enter the number\"))\n",
        "if m1>m2:\n",
        "  print(\"largest number is\",m1)\n",
        "if m2>m1:\n",
        "  print(\"largest number is\",m2)"
      ],
      "metadata": {
        "colab": {
          "base_uri": "https://localhost:8080/"
        },
        "id": "tPzrxJ_hmA0g",
        "outputId": "d50ebaca-5652-4bd3-90ea-6c5c1a044f66"
      },
      "execution_count": null,
      "outputs": [
        {
          "output_type": "stream",
          "name": "stdout",
          "text": [
            "enter the number90\n",
            "enter the number100\n",
            "largest number is 100\n"
          ]
        }
      ]
    },
    {
      "cell_type": "code",
      "source": [
        "m1=int(input(\"enter the number\"))\n",
        "m2=int(input(\"enter the number\"))\n",
        "m3=int(input(\"enter the number\"))\n",
        "if m1>m2 and m1>m3:\n",
        "  print(\"largest number is\",m1)\n",
        "if m2>m1 and m2>m3:\n",
        "  print(\"largest number is\",m2)\n",
        "if m3>m2 and m3>m1:\n",
        "  print(\"largest number is\",m3)"
      ],
      "metadata": {
        "colab": {
          "base_uri": "https://localhost:8080/"
        },
        "id": "quqge2EGme2Q",
        "outputId": "c613b6a6-285c-4e5d-c5b6-2adde5c10c22"
      },
      "execution_count": null,
      "outputs": [
        {
          "output_type": "stream",
          "name": "stdout",
          "text": [
            "enter the number40\n",
            "enter the number60\n",
            "enter the number90\n",
            "largest number is 90\n"
          ]
        }
      ]
    },
    {
      "cell_type": "code",
      "source": [
        "m1=int(input(\"enter the number\"))\n",
        "if m1%2 !=0:\n",
        "  print(\"odd\")\n",
        "else:\n",
        "  print(\"even\")"
      ],
      "metadata": {
        "id": "0amD9rbtqToU",
        "colab": {
          "base_uri": "https://localhost:8080/"
        },
        "outputId": "72f1d2d0-b8db-4139-a07f-423e34b1ebca"
      },
      "execution_count": 2,
      "outputs": [
        {
          "output_type": "stream",
          "name": "stdout",
          "text": [
            "enter the number80\n",
            "even\n"
          ]
        }
      ]
    },
    {
      "cell_type": "code",
      "source": [
        "for i in range(1,11):\n",
        "  print (i)"
      ],
      "metadata": {
        "id": "K9pdt9OLvtAi",
        "colab": {
          "base_uri": "https://localhost:8080/"
        },
        "outputId": "a2dde37c-2e3a-4efb-a5e2-5643b532d942"
      },
      "execution_count": 6,
      "outputs": [
        {
          "output_type": "stream",
          "name": "stdout",
          "text": [
            "1\n",
            "2\n",
            "3\n",
            "4\n",
            "5\n",
            "6\n",
            "7\n",
            "8\n",
            "9\n",
            "10\n"
          ]
        }
      ]
    },
    {
      "cell_type": "code",
      "source": [
        "for i in range (1,11):\n",
        " if i%2 ==0:\n",
        "   print(i)\n"
      ],
      "metadata": {
        "colab": {
          "base_uri": "https://localhost:8080/"
        },
        "id": "H9qbjfFl0DNx",
        "outputId": "831daec0-19b6-48ff-a709-5b047a5332b6"
      },
      "execution_count": 9,
      "outputs": [
        {
          "output_type": "stream",
          "name": "stdout",
          "text": [
            "2\n",
            "4\n",
            "6\n",
            "8\n",
            "10\n"
          ]
        }
      ]
    },
    {
      "cell_type": "code",
      "source": [
        "for i in range(1,11):\n",
        "  print(i,\"*5=\",i*5)"
      ],
      "metadata": {
        "colab": {
          "base_uri": "https://localhost:8080/"
        },
        "id": "K3pL4Ka20T_Y",
        "outputId": "9e0ffb40-e64a-438d-feef-872be26f059f"
      },
      "execution_count": 16,
      "outputs": [
        {
          "output_type": "stream",
          "name": "stdout",
          "text": [
            "1 *5= 5\n",
            "2 *5= 10\n",
            "3 *5= 15\n",
            "4 *5= 20\n",
            "5 *5= 25\n",
            "6 *5= 30\n",
            "7 *5= 35\n",
            "8 *5= 40\n",
            "9 *5= 45\n",
            "10 *5= 50\n"
          ]
        }
      ]
    },
    {
      "cell_type": "code",
      "source": [],
      "metadata": {
        "id": "5-NeH51b0_R7"
      },
      "execution_count": null,
      "outputs": []
    }
  ]
}