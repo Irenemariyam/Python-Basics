{
  "nbformat": 4,
  "nbformat_minor": 0,
  "metadata": {
    "colab": {
      "provenance": [],
      "authorship_tag": "ABX9TyP4E/yVtlGeE+p0jkECjG6F",
      "include_colab_link": true
    },
    "kernelspec": {
      "name": "python3",
      "display_name": "Python 3"
    },
    "language_info": {
      "name": "python"
    }
  },
  "cells": [
    {
      "cell_type": "markdown",
      "metadata": {
        "id": "view-in-github",
        "colab_type": "text"
      },
      "source": [
        "<a href=\"https://colab.research.google.com/github/Irenemariyam/Python-Basics/blob/main/Untitled6.ipynb\" target=\"_parent\"><img src=\"https://colab.research.google.com/assets/colab-badge.svg\" alt=\"Open In Colab\"/></a>"
      ]
    },
    {
      "cell_type": "code",
      "execution_count": 3,
      "metadata": {
        "colab": {
          "base_uri": "https://localhost:8080/"
        },
        "id": "G_GPrIDTglWQ",
        "outputId": "306878e3-eef7-4d42-eced-f125323ad0c9"
      },
      "outputs": [
        {
          "output_type": "stream",
          "name": "stdout",
          "text": [
            "enter a number-40\n",
            "40\n"
          ]
        }
      ],
      "source": [
        "x=int(input(\"enter a number\"))\n",
        "if x<0:\n",
        "  print(x*-1)\n",
        "else:\n",
        "  print(x*1)"
      ]
    },
    {
      "cell_type": "code",
      "source": [
        "x=int(input(\"enter a number\"))\n",
        "if x>80:\n",
        "  print(\"A\")\n",
        "elif x>60 and x<=80:\n",
        "  print(\"B\")\n",
        "elif x>50 and x<=60:\n",
        "  print(\"C\")\n",
        "elif x>45 and x<=50:\n",
        "  print(\"D\")\n",
        "elif x>25 and x<=45:\n",
        "  print(\"E\")\n",
        "else:\n",
        "  print(\"F\")"
      ],
      "metadata": {
        "colab": {
          "base_uri": "https://localhost:8080/"
        },
        "id": "2nU92Fc3kpVx",
        "outputId": "44ed10cc-a752-44ca-f3d6-adcf5dc5d278"
      },
      "execution_count": 6,
      "outputs": [
        {
          "output_type": "stream",
          "name": "stdout",
          "text": [
            "enter a number95\n",
            "A\n"
          ]
        }
      ]
    },
    {
      "cell_type": "code",
      "source": [
        "x=int(input(\"enter the no.of classes\"))\n",
        "y=int(input(\"enter the no.of classes attended\"))\n",
        "z= y/x*100\n",
        "if z>=75:\n",
        "  print(\"you are allowed to write exam\")\n",
        "else:\n",
        "  print(\"you are not allowed to write exam\")\n"
      ],
      "metadata": {
        "colab": {
          "base_uri": "https://localhost:8080/"
        },
        "id": "_CWzfYiXmbAM",
        "outputId": "68d7638b-b439-4a31-9dc8-f29268802403"
      },
      "execution_count": 8,
      "outputs": [
        {
          "output_type": "stream",
          "name": "stdout",
          "text": [
            "enter the no.of classes50\n",
            "enter the no.of classes attended45\n",
            "you are allowed to write exam\n"
          ]
        }
      ]
    },
    {
      "cell_type": "code",
      "source": [
        "print(\"1. addition\")\n",
        "print(\"2. subtraction\")\n",
        "print(\"3. multiplication\")\n",
        "print(\"4. division\")\n",
        "print(\"5. moduls\")\n",
        "print(\"6. floor division\")\n",
        "print(\"7. exponent\")\n",
        "x=int(input(\"select a number\"))\n",
        "m1=int(input(\"enter a number\"))\n",
        "m2=int(input(\"enter a number\"))\n",
        "if x==1:\n",
        "  print(m1+m2)\n",
        "if x==2:\n",
        "  print(m1-m2)\n",
        "if x==3:\n",
        "  print(m1*m2)\n",
        "if x==4:\n",
        "  print(m1/m2)\n",
        "if x==5:\n",
        "  print(m1%m1)\n",
        "if x==6:\n",
        "  print(m1//m2)\n",
        "if x==7:\n",
        "  print(m1**m2)\n",
        "else:\n",
        "  print(\"thank you\")"
      ],
      "metadata": {
        "colab": {
          "base_uri": "https://localhost:8080/"
        },
        "id": "4zGa-TqzpdSa",
        "outputId": "a135c1f7-0932-4af6-b2f7-d90338d03f8d"
      },
      "execution_count": 12,
      "outputs": [
        {
          "output_type": "stream",
          "name": "stdout",
          "text": [
            "1. addition\n",
            "2. subtraction\n",
            "3. multiplication\n",
            "4. division\n",
            "5. moduls\n",
            "6. floor division\n",
            "7. exponent\n",
            "select a number1\n",
            "enter a number30\n",
            "enter a number5\n",
            "35\n",
            "thank you\n"
          ]
        }
      ]
    },
    {
      "cell_type": "code",
      "source": [
        "m1=int(input('Enter marks of first subject '))\n",
        "m2=int(input('Enter marks of second subject '))\n",
        "m3=int(input('Enter marks of third subject '))\n",
        "m4=int(input('Enter marks of fourth subject '))\n",
        "m5=int(input('Enter marks of fifth subject '))\n",
        "print('Least marks:',min(m1,m2,m3,m4,m5))\n",
        "print('Maximum marks:',max(m1,m2,m3,m4,m5))"
      ],
      "metadata": {
        "colab": {
          "base_uri": "https://localhost:8080/"
        },
        "id": "KhBawepmsZMh",
        "outputId": "2b3b39d9-b3b6-4e92-a891-f2f9fee8e058"
      },
      "execution_count": 13,
      "outputs": [
        {
          "output_type": "stream",
          "name": "stdout",
          "text": [
            "Enter marks of first subject 90\n",
            "Enter marks of second subject 80\n",
            "Enter marks of third subject 85\n",
            "Enter marks of fourth subject 93\n",
            "Enter marks of fifth subject 95\n",
            "Least marks: 80\n",
            "Maximum marks: 95\n"
          ]
        }
      ]
    },
    {
      "cell_type": "code",
      "source": [
        "x=input(\"enter a name\")\n",
        "if x.isupper():\n",
        "  print(x.lower())\n",
        "if x.islower():\n",
        "  print(x.upper())\n",
        "len(x)"
      ],
      "metadata": {
        "colab": {
          "base_uri": "https://localhost:8080/"
        },
        "id": "QBZ0ELUB0NST",
        "outputId": "c90afe2b-6f2b-43b2-d8b6-1f22b4b3c62c"
      },
      "execution_count": 14,
      "outputs": [
        {
          "output_type": "stream",
          "name": "stdout",
          "text": [
            "enter a nameirene\n",
            "IRENE\n"
          ]
        },
        {
          "output_type": "execute_result",
          "data": {
            "text/plain": [
              "5"
            ]
          },
          "metadata": {},
          "execution_count": 14
        }
      ]
    },
    {
      "cell_type": "code",
      "source": [],
      "metadata": {
        "id": "stvWpAE64YzR"
      },
      "execution_count": 14,
      "outputs": []
    }
  ]
}