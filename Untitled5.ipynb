{
  "nbformat": 4,
  "nbformat_minor": 0,
  "metadata": {
    "colab": {
      "provenance": [],
      "authorship_tag": "ABX9TyMwVid+bekGaZbJmFinv913",
      "include_colab_link": true
    },
    "kernelspec": {
      "name": "python3",
      "display_name": "Python 3"
    },
    "language_info": {
      "name": "python"
    }
  },
  "cells": [
    {
      "cell_type": "markdown",
      "metadata": {
        "id": "view-in-github",
        "colab_type": "text"
      },
      "source": [
        "<a href=\"https://colab.research.google.com/github/Irenemariyam/Python-Basics/blob/main/Untitled5.ipynb\" target=\"_parent\"><img src=\"https://colab.research.google.com/assets/colab-badge.svg\" alt=\"Open In Colab\"/></a>"
      ]
    },
    {
      "cell_type": "code",
      "execution_count": 1,
      "metadata": {
        "colab": {
          "base_uri": "https://localhost:8080/"
        },
        "id": "UMAXWbrkoMmj",
        "outputId": "1545cb2d-9787-43e8-f89b-bd35b819ba31"
      },
      "outputs": [
        {
          "output_type": "stream",
          "name": "stdout",
          "text": [
            "enter the travel sourcebus\n",
            "enter the destinationbangalore\n",
            "enter no of passengers2\n",
            "travel source= bus\n",
            "destination= bangalore\n",
            "no of passengers= 2\n"
          ]
        }
      ],
      "source": [
        "travel_source=input(\"enter the travel source\")\n",
        "destination=input(\"enter the destination\")\n",
        "no_of_passengers=int(input(\"enter no of passengers\"))\n",
        "print(\"travel source=\",travel_source)\n",
        "print(\"destination=\",destination)\n",
        "print(\"no of passengers=\",no_of_passengers)"
      ]
    },
    {
      "cell_type": "code",
      "source": [
        "total_ticket_fare=int(input(\"enter the total ticket fare\"))\n",
        "no_of_passengers+int(input(\"enter the no of passengers\"))\n",
        "x=total_ticket_fare/no_of_passengers\n",
        "print(\"ticket fare per person\",x)"
      ],
      "metadata": {
        "colab": {
          "base_uri": "https://localhost:8080/"
        },
        "id": "YpCrR_lbr121",
        "outputId": "0ddca965-da8b-47d6-b0bf-19f3234378f1"
      },
      "execution_count": 3,
      "outputs": [
        {
          "output_type": "stream",
          "name": "stdout",
          "text": [
            "enter the total ticket fare2000\n",
            "enter the no of passengers2\n",
            "ticket fare per person 1000.0\n"
          ]
        }
      ]
    },
    {
      "cell_type": "code",
      "source": [
        "name=input(\"enter your name=\")\n",
        "ticket_fare=input(\"enter ticket fare=\")\n",
        "print(name,ticket_fare)\n"
      ],
      "metadata": {
        "colab": {
          "base_uri": "https://localhost:8080/"
        },
        "id": "siNH3vQ3shyR",
        "outputId": "98fbf1f9-da13-463a-8c0d-20e08ceb54c7"
      },
      "execution_count": 4,
      "outputs": [
        {
          "output_type": "stream",
          "name": "stdout",
          "text": [
            "enter your name=irene\n",
            "enter ticket fare=1000\n",
            "irene 1000\n"
          ]
        }
      ]
    },
    {
      "cell_type": "code",
      "source": [
        "total_ticket_fare=int(input(\"enter total ticket fare\"))\n",
        "if total_ticket_fare>10000:\n",
        "  print(\"eligible for discount\")"
      ],
      "metadata": {
        "colab": {
          "base_uri": "https://localhost:8080/"
        },
        "id": "XgExoP1Nt_CY",
        "outputId": "460165d9-7d4f-47ab-cbba-3034f8a03da5"
      },
      "execution_count": 6,
      "outputs": [
        {
          "output_type": "stream",
          "name": "stdout",
          "text": [
            "enter total ticket fare20000\n",
            "eligible for discount\n"
          ]
        }
      ]
    },
    {
      "cell_type": "code",
      "source": [
        "total_ticket_fare=int(input(\"enter total ticket fare\"))\n",
        "if total_ticket_fare>15000:\n",
        "  print(\"eligible for 20% dicount\")\n",
        "else:\n",
        "  print(\"eligible for 10% discount\")"
      ],
      "metadata": {
        "colab": {
          "base_uri": "https://localhost:8080/"
        },
        "id": "NvnJCsdKvEMY",
        "outputId": "584287ac-cef7-4a98-f08e-310ee1c3cc2e"
      },
      "execution_count": 9,
      "outputs": [
        {
          "output_type": "stream",
          "name": "stdout",
          "text": [
            "enter total ticket fare1200\n",
            "eligible for 10% discount\n"
          ]
        }
      ]
    },
    {
      "cell_type": "code",
      "source": [
        "total_ticket_fare=int(input(\"enter the total ticket fare=\"))\n",
        "if total_ticket_fare>15000:\n",
        "  x=total_ticket_fare*20/100\n",
        "  print(\"eligible for 20% discount\",x)\n",
        "if total_ticket_fare>10000 and total_ticket_fare<15000:\n",
        "  y=total_ticket_fare*10/100\n",
        "  print(\"eligible for 10% discount\",y)\n",
        "if total_ticket_fare<10000:\n",
        "  z=total_ticket_fare*5/100\n",
        "  print(\"eligible for 5% discount\",z)"
      ],
      "metadata": {
        "colab": {
          "base_uri": "https://localhost:8080/"
        },
        "id": "jn7yFp-zvyly",
        "outputId": "fcfb686c-a8af-4076-e3a0-642435535b63"
      },
      "execution_count": 10,
      "outputs": [
        {
          "output_type": "stream",
          "name": "stdout",
          "text": [
            "enter the total ticket fare=2000\n",
            "eligible for 5% discount 100.0\n"
          ]
        }
      ]
    },
    {
      "cell_type": "code",
      "source": [
        "n1=int(input(\"enter the number\"))\n",
        "if n1>0:\n",
        "   print(\"given number is positive\")\n",
        "if n1==0:\n",
        "   print(\"given number is zero\")\n",
        "if n1<0:\n",
        "   print(\"given number is negative\")"
      ],
      "metadata": {
        "colab": {
          "base_uri": "https://localhost:8080/"
        },
        "id": "fOwWJklFz5AK",
        "outputId": "45b81f91-d68e-4d54-c58b-b54696ce344f"
      },
      "execution_count": 11,
      "outputs": [
        {
          "output_type": "stream",
          "name": "stdout",
          "text": [
            "enter the number80\n",
            "given number is positive\n"
          ]
        }
      ]
    },
    {
      "cell_type": "code",
      "source": [
        "age=int(input(\"enter the age\"))\n",
        "if age>18:\n",
        "  print(\"adult\")\n",
        "elif age>13 and age<18:\n",
        "  print(\"teemager\")\n",
        "elif age>6 and age<13:\n",
        "  print(\"kid\") \n",
        "elif age>2 and age<6:\n",
        "  print(\"toddler\")\n",
        "elif age<2:\n",
        "  print(\"infant\")"
      ],
      "metadata": {
        "colab": {
          "base_uri": "https://localhost:8080/"
        },
        "id": "6GcywsvE0a_J",
        "outputId": "f41dc7e6-f5d3-4c6e-b440-bdf1d40f9cfe"
      },
      "execution_count": 15,
      "outputs": [
        {
          "output_type": "stream",
          "name": "stdout",
          "text": [
            "enter the age1\n",
            "infant\n"
          ]
        }
      ]
    },
    {
      "cell_type": "code",
      "source": [
        "initial=input(\"enter initials=\")\n",
        "if initial in(\"a,e,i,o,u\"):\n",
        "  print(\"vowel\")\n",
        "else:\n",
        "  print(\"no vowel\")"
      ],
      "metadata": {
        "colab": {
          "base_uri": "https://localhost:8080/"
        },
        "id": "aNtRyXhw1dnn",
        "outputId": "d58c90a9-59f5-4797-9f70-2575eba963c7"
      },
      "execution_count": 18,
      "outputs": [
        {
          "output_type": "stream",
          "name": "stdout",
          "text": [
            "enter initials=j\n",
            "no vowel\n"
          ]
        }
      ]
    },
    {
      "cell_type": "code",
      "source": [
        "name=input(\"enter your name=\")\n",
        "for i in name:\n",
        "  print(i)"
      ],
      "metadata": {
        "colab": {
          "base_uri": "https://localhost:8080/"
        },
        "id": "h4O3oShv2ps4",
        "outputId": "6eccb923-9476-4c8a-a902-960493b3251a"
      },
      "execution_count": 19,
      "outputs": [
        {
          "output_type": "stream",
          "name": "stdout",
          "text": [
            "enter your name=irene\n",
            "i\n",
            "r\n",
            "e\n",
            "n\n",
            "e\n"
          ]
        }
      ]
    },
    {
      "cell_type": "code",
      "source": [
        "for i in range(45,89,2):\n",
        "  print(i)"
      ],
      "metadata": {
        "colab": {
          "base_uri": "https://localhost:8080/"
        },
        "id": "ygds3Dw44jrS",
        "outputId": "b402ad50-bdd9-4697-d7a4-9abe16dc7102"
      },
      "execution_count": 23,
      "outputs": [
        {
          "output_type": "stream",
          "name": "stdout",
          "text": [
            "45\n",
            "47\n",
            "49\n",
            "51\n",
            "53\n",
            "55\n",
            "57\n",
            "59\n",
            "61\n",
            "63\n",
            "65\n",
            "67\n",
            "69\n",
            "71\n",
            "73\n",
            "75\n",
            "77\n",
            "79\n",
            "81\n",
            "83\n",
            "85\n",
            "87\n"
          ]
        }
      ]
    },
    {
      "cell_type": "code",
      "source": [
        "a=0\n",
        "for i in range(1,11):\n",
        "  a=a+i\n",
        "  print(i,a)"
      ],
      "metadata": {
        "colab": {
          "base_uri": "https://localhost:8080/"
        },
        "id": "znDNCDmv5HQN",
        "outputId": "fe2e38b4-257d-43b0-bba1-88abe1412ebc"
      },
      "execution_count": 24,
      "outputs": [
        {
          "output_type": "stream",
          "name": "stdout",
          "text": [
            "1 1\n",
            "2 3\n",
            "3 6\n",
            "4 10\n",
            "5 15\n",
            "6 21\n",
            "7 28\n",
            "8 36\n",
            "9 45\n",
            "10 55\n"
          ]
        }
      ]
    },
    {
      "cell_type": "code",
      "source": [
        "for i in range(5):\n",
        "  for j in range(i):\n",
        "    print(i, end=\" \")\n",
        "  print(' ')"
      ],
      "metadata": {
        "colab": {
          "base_uri": "https://localhost:8080/"
        },
        "id": "VV3fd-9956sK",
        "outputId": "74d15cdd-dc35-4380-9d6e-a32e15dd7cd0"
      },
      "execution_count": 31,
      "outputs": [
        {
          "output_type": "stream",
          "name": "stdout",
          "text": [
            " \n",
            "1  \n",
            "2 2  \n",
            "3 3 3  \n",
            "4 4 4 4  \n"
          ]
        }
      ]
    },
    {
      "cell_type": "code",
      "source": [],
      "metadata": {
        "id": "E00InlxY_Z8N"
      },
      "execution_count": null,
      "outputs": []
    }
  ]
}