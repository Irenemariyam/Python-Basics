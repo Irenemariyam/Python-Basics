{
  "nbformat": 4,
  "nbformat_minor": 0,
  "metadata": {
    "colab": {
      "provenance": [],
      "authorship_tag": "ABX9TyOYAX1BnzjIQNFfVPAfPXwy",
      "include_colab_link": true
    },
    "kernelspec": {
      "name": "python3",
      "display_name": "Python 3"
    },
    "language_info": {
      "name": "python"
    }
  },
  "cells": [
    {
      "cell_type": "markdown",
      "metadata": {
        "id": "view-in-github",
        "colab_type": "text"
      },
      "source": [
        "<a href=\"https://colab.research.google.com/github/Irenemariyam/Python-Basics/blob/main/Untitled9.ipynb\" target=\"_parent\"><img src=\"https://colab.research.google.com/assets/colab-badge.svg\" alt=\"Open In Colab\"/></a>"
      ]
    },
    {
      "cell_type": "code",
      "execution_count": 4,
      "metadata": {
        "colab": {
          "base_uri": "https://localhost:8080/"
        },
        "id": "WPKsgIZ0rsvD",
        "outputId": "451d0416-2647-4235-cc2d-15b9dd785f91"
      },
      "outputs": [
        {
          "output_type": "stream",
          "name": "stdout",
          "text": [
            "hello world\n"
          ]
        }
      ],
      "source": [
        "def fun_name():\n",
        "  print(\"hello world\")\n",
        "fun_name()"
      ]
    },
    {
      "cell_type": "code",
      "source": [
        "def fun_name(x):\n",
        "  print(\"welcome\" + x)\n",
        "fun_name(\"irene\")\n",
        "fun_name(\"angela\")\n",
        "fun_name(\"jifana\")"
      ],
      "metadata": {
        "colab": {
          "base_uri": "https://localhost:8080/"
        },
        "id": "iLrMgnpds4q_",
        "outputId": "3ca45119-e473-4b5e-8693-c32c57da8b8f"
      },
      "execution_count": 5,
      "outputs": [
        {
          "output_type": "stream",
          "name": "stdout",
          "text": [
            "welcomeirene\n",
            "welcomeangela\n",
            "welcomejifana\n"
          ]
        }
      ]
    },
    {
      "cell_type": "code",
      "source": [
        "def fun_name(x,y):\n",
        "  print(x +\" \"+ y)\n",
        "fun_name(\"John\",\"Jacob\")"
      ],
      "metadata": {
        "colab": {
          "base_uri": "https://localhost:8080/"
        },
        "id": "vhL7I4kGtkJ6",
        "outputId": "75197721-de9c-4fe1-e64f-4be95d4e32a0"
      },
      "execution_count": 6,
      "outputs": [
        {
          "output_type": "stream",
          "name": "stdout",
          "text": [
            "John Jacob\n"
          ]
        }
      ]
    },
    {
      "cell_type": "code",
      "source": [
        "def fifa():\n",
        "  print(\"Fifa World Cup 2022\")\n",
        "fifa()"
      ],
      "metadata": {
        "colab": {
          "base_uri": "https://localhost:8080/"
        },
        "id": "w9nYZe9uuSsj",
        "outputId": "70e15587-800d-43d4-b371-48d0b29e151d"
      },
      "execution_count": 11,
      "outputs": [
        {
          "output_type": "stream",
          "name": "stdout",
          "text": [
            "Fifa World Cup 2022\n"
          ]
        }
      ]
    },
    {
      "cell_type": "code",
      "source": [
        "def full_name(n1,n2,n3):\n",
        "  print(n1,n2,n3)\n",
        "full_name('Junaid','M','Ansari')"
      ],
      "metadata": {
        "colab": {
          "base_uri": "https://localhost:8080/"
        },
        "id": "ohqPLh3RvVUy",
        "outputId": "7a78c7b6-d2e6-40c3-b198-48499b028d88"
      },
      "execution_count": 12,
      "outputs": [
        {
          "output_type": "stream",
          "name": "stdout",
          "text": [
            "Junaid M Ansari\n"
          ]
        }
      ]
    },
    {
      "cell_type": "code",
      "source": [
        "def full_name(n1,n2,n3):\n",
        "  print(n3,n1,n2)\n",
        "full_name('Junaid','M','Ansari')"
      ],
      "metadata": {
        "colab": {
          "base_uri": "https://localhost:8080/"
        },
        "id": "lZ_RNl0DwwvZ",
        "outputId": "fd90dfd1-ca94-4969-dfd9-fb25f030362f"
      },
      "execution_count": 15,
      "outputs": [
        {
          "output_type": "stream",
          "name": "stdout",
          "text": [
            "Ansari Junaid M\n"
          ]
        }
      ]
    },
    {
      "cell_type": "code",
      "source": [
        "def fav(*x):\n",
        "  print('second fav football player',x[1])\n",
        "fav('rolando','messi','neymer','mbappe')"
      ],
      "metadata": {
        "colab": {
          "base_uri": "https://localhost:8080/"
        },
        "id": "i_qFnaaexj5O",
        "outputId": "a942941a-6922-4c38-9360-22210912cce9"
      },
      "execution_count": 16,
      "outputs": [
        {
          "output_type": "stream",
          "name": "stdout",
          "text": [
            "second fav football player messi\n"
          ]
        }
      ]
    },
    {
      "cell_type": "code",
      "source": [
        "def con(country = 'mexico'):\n",
        "  print('my fav team is from ' + country)\n",
        "con('argentina')\n",
        "con()"
      ],
      "metadata": {
        "colab": {
          "base_uri": "https://localhost:8080/"
        },
        "id": "pI9l3e1yzRrf",
        "outputId": "7e3df309-8a0e-43a2-f8ef-de302fc8ec6e"
      },
      "execution_count": 20,
      "outputs": [
        {
          "output_type": "stream",
          "name": "stdout",
          "text": [
            "my fav team is from argentina\n",
            "my fav team is from mexico\n"
          ]
        }
      ]
    },
    {
      "cell_type": "code",
      "source": [
        "def teams(x):\n",
        "  for i in x:\n",
        "    print(i)\n",
        "teams(['saudi','argentina','brazil','portugal','germany','ecudor'])"
      ],
      "metadata": {
        "colab": {
          "base_uri": "https://localhost:8080/"
        },
        "id": "foqyTw6H35Wi",
        "outputId": "56bc0ee3-e072-4cac-94d6-e5dd5c235f0a"
      },
      "execution_count": 22,
      "outputs": [
        {
          "output_type": "stream",
          "name": "stdout",
          "text": [
            "saudi\n",
            "argentina\n",
            "brazil\n",
            "portugal\n",
            "germany\n",
            "ecudor\n"
          ]
        }
      ]
    },
    {
      "cell_type": "code",
      "source": [],
      "metadata": {
        "id": "Ncwv77fU4gvC"
      },
      "execution_count": null,
      "outputs": []
    }
  ]
}