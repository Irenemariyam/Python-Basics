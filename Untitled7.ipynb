{
  "nbformat": 4,
  "nbformat_minor": 0,
  "metadata": {
    "colab": {
      "provenance": [],
      "authorship_tag": "ABX9TyM0AQMhs/wjDFfhwqpQ1MwQ",
      "include_colab_link": true
    },
    "kernelspec": {
      "name": "python3",
      "display_name": "Python 3"
    },
    "language_info": {
      "name": "python"
    }
  },
  "cells": [
    {
      "cell_type": "markdown",
      "metadata": {
        "id": "view-in-github",
        "colab_type": "text"
      },
      "source": [
        "<a href=\"https://colab.research.google.com/github/Irenemariyam/Python-Basics/blob/main/Untitled7.ipynb\" target=\"_parent\"><img src=\"https://colab.research.google.com/assets/colab-badge.svg\" alt=\"Open In Colab\"/></a>"
      ]
    },
    {
      "cell_type": "code",
      "execution_count": 1,
      "metadata": {
        "colab": {
          "base_uri": "https://localhost:8080/"
        },
        "id": "Vp_lYviwz3DU",
        "outputId": "a8213457-245f-4fb2-9acd-8864417f0817"
      },
      "outputs": [
        {
          "output_type": "stream",
          "name": "stdout",
          "text": [
            "enter the number to display the correspnding multiplication tabele: 5\n",
            "1 * 5 = 5\n",
            "2 * 5 = 10\n",
            "3 * 5 = 15\n",
            "4 * 5 = 20\n",
            "5 * 5 = 25\n",
            "6 * 5 = 30\n",
            "7 * 5 = 35\n",
            "8 * 5 = 40\n",
            "9 * 5 = 45\n",
            "10 * 5 = 50\n"
          ]
        }
      ],
      "source": [
        "num=int(input(\"enter the number to display the correspnding multiplication tabele: \"))\n",
        "for i in range(1,11):\n",
        "  print(i,\"*\",num,\"=\",i*num)\n",
        "\n"
      ]
    },
    {
      "cell_type": "code",
      "source": [
        "num=input(\"Enter the number: \")\n",
        "k=0\n",
        "for i in num:\n",
        "  k=k+1\n",
        "print(k)\n"
      ],
      "metadata": {
        "colab": {
          "base_uri": "https://localhost:8080/"
        },
        "id": "1Tj5pAFM0E4l",
        "outputId": "c552aa7e-7201-4f8f-bce9-6a8fcf7cc095"
      },
      "execution_count": 4,
      "outputs": [
        {
          "output_type": "stream",
          "name": "stdout",
          "text": [
            "Enter the number: 1547\n",
            "4\n"
          ]
        }
      ]
    },
    {
      "cell_type": "code",
      "source": [
        "num=int(input(\"enter number: \"))\n",
        "i=1\n",
        "while(i<=10):\n",
        "  print(i*num)\n",
        "  i=i+1"
      ],
      "metadata": {
        "colab": {
          "base_uri": "https://localhost:8080/"
        },
        "id": "QhSkBRPo0OB4",
        "outputId": "0aeb5d79-97c1-4dde-ef49-c97bd46d7093"
      },
      "execution_count": 5,
      "outputs": [
        {
          "output_type": "stream",
          "name": "stdout",
          "text": [
            "enter number: 8\n",
            "8\n",
            "16\n",
            "24\n",
            "32\n",
            "40\n",
            "48\n",
            "56\n",
            "64\n",
            "72\n",
            "80\n"
          ]
        }
      ]
    },
    {
      "cell_type": "code",
      "source": [
        "string=input((\"enter string: \"))\n",
        "reversestring= \"\"\n",
        "for i in string:\n",
        "    reversestring = i + reversestring\n",
        "print(\"reverse string: \",reversestring)      \n",
        "if (string == reversestring):\n",
        "    print(\"the string is palindrome\")\n",
        "else:\n",
        "    print(\"the string is not palindrome\")\n"
      ],
      "metadata": {
        "colab": {
          "base_uri": "https://localhost:8080/"
        },
        "id": "DbFfgBE50xHh",
        "outputId": "3bff09d7-4aa7-4593-c404-d0a83493ebeb"
      },
      "execution_count": 6,
      "outputs": [
        {
          "output_type": "stream",
          "name": "stdout",
          "text": [
            "enter string: WOW\n",
            "reverse string:  WOW\n",
            "the string is palindrome\n"
          ]
        }
      ]
    },
    {
      "cell_type": "code",
      "source": [
        "name=input((\"enter user name: \"))\n",
        "name=name.replace(\"a\",\"k\")\n",
        "print(name)"
      ],
      "metadata": {
        "colab": {
          "base_uri": "https://localhost:8080/"
        },
        "id": "oidIZ39t7Vx3",
        "outputId": "bac57f01-85af-49a5-b78c-86bbdadfd141"
      },
      "execution_count": 12,
      "outputs": [
        {
          "output_type": "stream",
          "name": "stdout",
          "text": [
            "enter user name: susan\n",
            "suskn\n"
          ]
        }
      ]
    },
    {
      "cell_type": "code",
      "source": [
        "name=input((\"enter username: \"))\n",
        "if name.isupper():\n",
        "  print(\"Upper case\") \n",
        "  print(name.lower())\n",
        "if name.islower():\n",
        "  print(\"lower case\")\n",
        "  print(name.upper())\n"
      ],
      "metadata": {
        "colab": {
          "base_uri": "https://localhost:8080/"
        },
        "id": "s7tDMGXc-HAx",
        "outputId": "57a5e9a2-d009-48ce-c5e7-24330748b9ba"
      },
      "execution_count": 14,
      "outputs": [
        {
          "output_type": "stream",
          "name": "stdout",
          "text": [
            "enter username: IRENE\n",
            "Upper case\n",
            "irene\n"
          ]
        }
      ]
    },
    {
      "cell_type": "code",
      "source": [],
      "metadata": {
        "id": "E844aS7L_ymP"
      },
      "execution_count": 14,
      "outputs": []
    }
  ]
}