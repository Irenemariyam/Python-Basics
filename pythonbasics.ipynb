{
  "nbformat": 4,
  "nbformat_minor": 0,
  "metadata": {
    "colab": {
      "provenance": [],
      "authorship_tag": "ABX9TyNt6phRAZeHKf6QT1eo+fX4",
      "include_colab_link": true
    },
    "kernelspec": {
      "name": "python3",
      "display_name": "Python 3"
    },
    "language_info": {
      "name": "python"
    }
  },
  "cells": [
    {
      "cell_type": "markdown",
      "metadata": {
        "id": "view-in-github",
        "colab_type": "text"
      },
      "source": [
        "<a href=\"https://colab.research.google.com/github/Irenemariyam/Python-Basics/blob/main/pythonbasics.ipynb\" target=\"_parent\"><img src=\"https://colab.research.google.com/assets/colab-badge.svg\" alt=\"Open In Colab\"/></a>"
      ]
    },
    {
      "cell_type": "code",
      "source": [
        "s=int(input(\"enter the salary \"))\n",
        "if s<250000:\n",
        "    print(\"not taxable\")\n",
        "if s>=250000 and s<500000:\n",
        "    p=s-250000\n",
        "    y=10/100*p\n",
        "    print(\"taxable amt is\",p)\n",
        "    print(\"tax amt\",y)\n",
        "if s>=500000 and s<750000:\n",
        "    p=s-500000\n",
        "    y=20/100*p\n",
        "    c=y+25000\n",
        "    print(\"taxable amt is\",p)\n",
        "    print(\"tax amt is\",c)\n",
        "if s>=750000 and s<1000000:\n",
        "    p=s-7500000\n",
        "    y=30/100*p\n",
        "    c=y+125000\n",
        "    print(\"taxable amt is\",p)\n",
        "    print(\"TAX AMT IS\",c)\n",
        "if s>1000000:\n",
        "    p=s-1000000\n",
        "    y=32/100*p\n",
        "    c=y+275000\n",
        "    print(\"taxable amt is\",p)\n",
        "    print(\"tax amt is \",c)"
      ],
      "metadata": {
        "colab": {
          "base_uri": "https://localhost:8080/"
        },
        "id": "zfVKZR0yzZ_m",
        "outputId": "d05a548c-f8c6-4455-f606-6c49d0252d56"
      },
      "execution_count": 8,
      "outputs": [
        {
          "output_type": "stream",
          "name": "stdout",
          "text": [
            "enter the salary 500000\n",
            "taxable amt is 0\n",
            "tax amt is 25000.0\n"
          ]
        }
      ]
    },
    {
      "cell_type": "code",
      "source": [],
      "metadata": {
        "id": "74BJE2Oo4o4a"
      },
      "execution_count": 8,
      "outputs": []
    }
  ]
}